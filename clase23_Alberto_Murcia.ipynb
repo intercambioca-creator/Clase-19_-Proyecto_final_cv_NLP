{
  "cells": [
    {
      "cell_type": "markdown",
      "metadata": {
        "id": "view-in-github",
        "colab_type": "text"
      },
      "source": [
        "<a href=\"https://colab.research.google.com/github/intercambioca-creator/Clase-19_-Proyecto_final_cv_NLP/blob/main/clase23_Alberto_Murcia.ipynb\" target=\"_parent\"><img src=\"https://colab.research.google.com/assets/colab-badge.svg\" alt=\"Open In Colab\"/></a>"
      ]
    },
    {
      "cell_type": "markdown",
      "metadata": {
        "id": "B24iPeh6m9sQ"
      },
      "source": [
        "# Diagnóstico y recomendación con IA: Caso Diabetes\n",
        "\n",
        "En esta actividad trabajaremos con un dataset real de pacientes, buscando automatizar el diagnóstico de diabetes y sentar bases para un sistema de recomendación. El enfoque será fortalecer la limpieza de datos, el preprocesamiento y la comparación de dos modelos: K-Nearest Neighbors (KNN) y Random Forest.\n",
        "\n",
        "El dataset que usaremos es el **Pima Indians Diabetes Dataset**, disponible en [UCI Machine Learning Repository](https://www.kaggle.com/datasets/uciml/pima-indians-diabetes-database) y en [este enlace CSV directo](https://raw.githubusercontent.com/plotly/datasets/master/diabetes.csv)."
      ]
    },
    {
      "cell_type": "code",
      "execution_count": 1,
      "metadata": {
        "id": "FiPv5DJIm9sY"
      },
      "outputs": [],
      "source": [
        "# 1. Importar librerías básicas\n",
        "%pip install matplotlib seaborn --quiet\n",
        "%pip install scikit-learn --quiet\n",
        "import pandas as pd\n",
        "import numpy as np\n",
        "import matplotlib.pyplot as plt\n",
        "import seaborn as sns\n",
        "sns.set(style=\"whitegrid\")\n",
        "plt.rcParams[\"figure.figsize\"] = (8,5)"
      ]
    },
    {
      "cell_type": "code",
      "source": [
        "import pandas as pd\n",
        "df = pd.read_csv('diabetes.csv')\n"
      ],
      "metadata": {
        "id": "ERlpf1-in5Ui"
      },
      "execution_count": 3,
      "outputs": []
    },
    {
      "cell_type": "code",
      "source": [
        "import joblib\n",
        "\n",
        "# Guardar el modelo entrenado en un archivo .pkl\n",
        "joblib.dump(knn_opt, 'modelo_entrenado.pkl')"
      ],
      "metadata": {
        "colab": {
          "base_uri": "https://localhost:8080/"
        },
        "id": "-wygyu95QD7K",
        "outputId": "b69fe42c-9059-40fc-b2d6-7f498254e006"
      },
      "execution_count": 29,
      "outputs": [
        {
          "output_type": "execute_result",
          "data": {
            "text/plain": [
              "['modelo_entrenado.pkl']"
            ]
          },
          "metadata": {},
          "execution_count": 29
        }
      ]
    },
    {
      "cell_type": "code",
      "source": [
        "from google.colab import files\n",
        "files.download('modelo_entrenado.pkl')\n"
      ],
      "metadata": {
        "colab": {
          "base_uri": "https://localhost:8080/",
          "height": 17
        },
        "id": "2qJ9sfT9QF2j",
        "outputId": "28e64e75-54e0-44c2-a5ce-6c9f55cc60e6"
      },
      "execution_count": 30,
      "outputs": [
        {
          "output_type": "display_data",
          "data": {
            "text/plain": [
              "<IPython.core.display.Javascript object>"
            ],
            "application/javascript": [
              "\n",
              "    async function download(id, filename, size) {\n",
              "      if (!google.colab.kernel.accessAllowed) {\n",
              "        return;\n",
              "      }\n",
              "      const div = document.createElement('div');\n",
              "      const label = document.createElement('label');\n",
              "      label.textContent = `Downloading \"${filename}\": `;\n",
              "      div.appendChild(label);\n",
              "      const progress = document.createElement('progress');\n",
              "      progress.max = size;\n",
              "      div.appendChild(progress);\n",
              "      document.body.appendChild(div);\n",
              "\n",
              "      const buffers = [];\n",
              "      let downloaded = 0;\n",
              "\n",
              "      const channel = await google.colab.kernel.comms.open(id);\n",
              "      // Send a message to notify the kernel that we're ready.\n",
              "      channel.send({})\n",
              "\n",
              "      for await (const message of channel.messages) {\n",
              "        // Send a message to notify the kernel that we're ready.\n",
              "        channel.send({})\n",
              "        if (message.buffers) {\n",
              "          for (const buffer of message.buffers) {\n",
              "            buffers.push(buffer);\n",
              "            downloaded += buffer.byteLength;\n",
              "            progress.value = downloaded;\n",
              "          }\n",
              "        }\n",
              "      }\n",
              "      const blob = new Blob(buffers, {type: 'application/binary'});\n",
              "      const a = document.createElement('a');\n",
              "      a.href = window.URL.createObjectURL(blob);\n",
              "      a.download = filename;\n",
              "      div.appendChild(a);\n",
              "      a.click();\n",
              "      div.remove();\n",
              "    }\n",
              "  "
            ]
          },
          "metadata": {}
        },
        {
          "output_type": "display_data",
          "data": {
            "text/plain": [
              "<IPython.core.display.Javascript object>"
            ],
            "application/javascript": [
              "download(\"download_fb11806c-3efa-49fa-bbfd-ee7be0f18718\", \"modelo_entrenado.pkl\", 121622)"
            ]
          },
          "metadata": {}
        }
      ]
    },
    {
      "cell_type": "markdown",
      "metadata": {
        "id": "tIFRVeJJm9sc"
      },
      "source": [
        "**Explora el dataset:**  \n",
        "- ¿Cuántas filas y columnas tiene?  \n",
        "- ¿Qué variables aparecen?  \n",
        "- ¿Cuál es la variable objetivo?"
      ]
    },
    {
      "cell_type": "markdown",
      "source": [
        "son 9 columnas y 768 filas;Variables:Pregnancies,Glucose,BloodPressure, SkinThickness, Insulin, BMI, DiabetesPedigreeFunction,Age,Outcome; la variable objetivo es la glucosa"
      ],
      "metadata": {
        "id": "1jc4psSjJP3Z"
      }
    },
    {
      "cell_type": "code",
      "execution_count": 4,
      "metadata": {
        "colab": {
          "base_uri": "https://localhost:8080/"
        },
        "outputId": "584d469d-7b1e-4ffe-9462-9407568e0d9e",
        "id": "fdmQhtIDMOR1"
      },
      "outputs": [
        {
          "output_type": "stream",
          "name": "stdout",
          "text": [
            "Shape: (768, 9)\n",
            "Columnas: ['Pregnancies', 'Glucose', 'BloodPressure', 'SkinThickness', 'Insulin', 'BMI', 'DiabetesPedigreeFunction', 'Age', 'Outcome']\n",
            "<class 'pandas.core.frame.DataFrame'>\n",
            "RangeIndex: 768 entries, 0 to 767\n",
            "Data columns (total 9 columns):\n",
            " #   Column                    Non-Null Count  Dtype  \n",
            "---  ------                    --------------  -----  \n",
            " 0   Pregnancies               768 non-null    int64  \n",
            " 1   Glucose                   768 non-null    int64  \n",
            " 2   BloodPressure             768 non-null    int64  \n",
            " 3   SkinThickness             768 non-null    int64  \n",
            " 4   Insulin                   768 non-null    int64  \n",
            " 5   BMI                       768 non-null    float64\n",
            " 6   DiabetesPedigreeFunction  768 non-null    float64\n",
            " 7   Age                       768 non-null    int64  \n",
            " 8   Outcome                   768 non-null    int64  \n",
            "dtypes: float64(2), int64(7)\n",
            "memory usage: 54.1 KB\n"
          ]
        }
      ],
      "source": [
        "# Dimensiones y nombres de columnas\n",
        "print(\"Shape:\", df.shape)\n",
        "print(\"Columnas:\", df.columns.tolist())\n",
        "df.info()"
      ]
    },
    {
      "cell_type": "code",
      "execution_count": 5,
      "metadata": {
        "colab": {
          "base_uri": "https://localhost:8080/"
        },
        "outputId": "cbbc1d7a-14d5-4723-f847-b0d6bc6bb905",
        "id": "X_pev13QMJgM"
      },
      "outputs": [
        {
          "output_type": "stream",
          "name": "stdout",
          "text": [
            "Shape: (768, 9)\n",
            "Columnas: ['Pregnancies', 'Glucose', 'BloodPressure', 'SkinThickness', 'Insulin', 'BMI', 'DiabetesPedigreeFunction', 'Age', 'Outcome']\n",
            "<class 'pandas.core.frame.DataFrame'>\n",
            "RangeIndex: 768 entries, 0 to 767\n",
            "Data columns (total 9 columns):\n",
            " #   Column                    Non-Null Count  Dtype  \n",
            "---  ------                    --------------  -----  \n",
            " 0   Pregnancies               768 non-null    int64  \n",
            " 1   Glucose                   768 non-null    int64  \n",
            " 2   BloodPressure             768 non-null    int64  \n",
            " 3   SkinThickness             768 non-null    int64  \n",
            " 4   Insulin                   768 non-null    int64  \n",
            " 5   BMI                       768 non-null    float64\n",
            " 6   DiabetesPedigreeFunction  768 non-null    float64\n",
            " 7   Age                       768 non-null    int64  \n",
            " 8   Outcome                   768 non-null    int64  \n",
            "dtypes: float64(2), int64(7)\n",
            "memory usage: 54.1 KB\n"
          ]
        }
      ],
      "source": [
        "# Dimensiones y nombres de columnas\n",
        "print(\"Shape:\", df.shape)\n",
        "print(\"Columnas:\", df.columns.tolist())\n",
        "df.info()"
      ]
    },
    {
      "cell_type": "code",
      "execution_count": null,
      "metadata": {
        "colab": {
          "base_uri": "https://localhost:8080/"
        },
        "id": "OGtnKAkBm9sc",
        "outputId": "7c94bbdd-4e28-4d62-d6ba-d9ddf44684dc"
      },
      "outputs": [
        {
          "output_type": "stream",
          "name": "stdout",
          "text": [
            "Shape: (768, 9)\n",
            "Columnas: ['Pregnancies', 'Glucose', 'BloodPressure', 'SkinThickness', 'Insulin', 'BMI', 'DiabetesPedigreeFunction', 'Age', 'Outcome']\n",
            "<class 'pandas.core.frame.DataFrame'>\n",
            "RangeIndex: 768 entries, 0 to 767\n",
            "Data columns (total 9 columns):\n",
            " #   Column                    Non-Null Count  Dtype  \n",
            "---  ------                    --------------  -----  \n",
            " 0   Pregnancies               768 non-null    int64  \n",
            " 1   Glucose                   768 non-null    int64  \n",
            " 2   BloodPressure             768 non-null    int64  \n",
            " 3   SkinThickness             768 non-null    int64  \n",
            " 4   Insulin                   768 non-null    int64  \n",
            " 5   BMI                       768 non-null    float64\n",
            " 6   DiabetesPedigreeFunction  768 non-null    float64\n",
            " 7   Age                       768 non-null    int64  \n",
            " 8   Outcome                   768 non-null    int64  \n",
            "dtypes: float64(2), int64(7)\n",
            "memory usage: 54.1 KB\n"
          ]
        }
      ],
      "source": [
        "# Dimensiones y nombres de columnas\n",
        "print(\"Shape:\", df.shape)\n",
        "print(\"Columnas:\", df.columns.tolist())\n",
        "df.info()"
      ]
    },
    {
      "cell_type": "code",
      "execution_count": null,
      "metadata": {
        "colab": {
          "base_uri": "https://localhost:8080/",
          "height": 320
        },
        "id": "lwe0ODP-m9se",
        "outputId": "ff1cf09d-798a-4d37-f2d4-adddd55180e7"
      },
      "outputs": [
        {
          "output_type": "execute_result",
          "data": {
            "text/plain": [
              "       Pregnancies     Glucose  BloodPressure  SkinThickness     Insulin  \\\n",
              "count   768.000000  768.000000     768.000000     768.000000  768.000000   \n",
              "mean      3.845052  120.894531      69.105469      20.536458   79.799479   \n",
              "std       3.369578   31.972618      19.355807      15.952218  115.244002   \n",
              "min       0.000000    0.000000       0.000000       0.000000    0.000000   \n",
              "25%       1.000000   99.000000      62.000000       0.000000    0.000000   \n",
              "50%       3.000000  117.000000      72.000000      23.000000   30.500000   \n",
              "75%       6.000000  140.250000      80.000000      32.000000  127.250000   \n",
              "max      17.000000  199.000000     122.000000      99.000000  846.000000   \n",
              "\n",
              "              BMI  DiabetesPedigreeFunction         Age     Outcome  \n",
              "count  768.000000                768.000000  768.000000  768.000000  \n",
              "mean    31.992578                  0.471876   33.240885    0.348958  \n",
              "std      7.884160                  0.331329   11.760232    0.476951  \n",
              "min      0.000000                  0.078000   21.000000    0.000000  \n",
              "25%     27.300000                  0.243750   24.000000    0.000000  \n",
              "50%     32.000000                  0.372500   29.000000    0.000000  \n",
              "75%     36.600000                  0.626250   41.000000    1.000000  \n",
              "max     67.100000                  2.420000   81.000000    1.000000  "
            ],
            "text/html": [
              "\n",
              "  <div id=\"df-5b0ab6f6-422e-4417-a840-6943da6511a7\" class=\"colab-df-container\">\n",
              "    <div>\n",
              "<style scoped>\n",
              "    .dataframe tbody tr th:only-of-type {\n",
              "        vertical-align: middle;\n",
              "    }\n",
              "\n",
              "    .dataframe tbody tr th {\n",
              "        vertical-align: top;\n",
              "    }\n",
              "\n",
              "    .dataframe thead th {\n",
              "        text-align: right;\n",
              "    }\n",
              "</style>\n",
              "<table border=\"1\" class=\"dataframe\">\n",
              "  <thead>\n",
              "    <tr style=\"text-align: right;\">\n",
              "      <th></th>\n",
              "      <th>Pregnancies</th>\n",
              "      <th>Glucose</th>\n",
              "      <th>BloodPressure</th>\n",
              "      <th>SkinThickness</th>\n",
              "      <th>Insulin</th>\n",
              "      <th>BMI</th>\n",
              "      <th>DiabetesPedigreeFunction</th>\n",
              "      <th>Age</th>\n",
              "      <th>Outcome</th>\n",
              "    </tr>\n",
              "  </thead>\n",
              "  <tbody>\n",
              "    <tr>\n",
              "      <th>count</th>\n",
              "      <td>768.000000</td>\n",
              "      <td>768.000000</td>\n",
              "      <td>768.000000</td>\n",
              "      <td>768.000000</td>\n",
              "      <td>768.000000</td>\n",
              "      <td>768.000000</td>\n",
              "      <td>768.000000</td>\n",
              "      <td>768.000000</td>\n",
              "      <td>768.000000</td>\n",
              "    </tr>\n",
              "    <tr>\n",
              "      <th>mean</th>\n",
              "      <td>3.845052</td>\n",
              "      <td>120.894531</td>\n",
              "      <td>69.105469</td>\n",
              "      <td>20.536458</td>\n",
              "      <td>79.799479</td>\n",
              "      <td>31.992578</td>\n",
              "      <td>0.471876</td>\n",
              "      <td>33.240885</td>\n",
              "      <td>0.348958</td>\n",
              "    </tr>\n",
              "    <tr>\n",
              "      <th>std</th>\n",
              "      <td>3.369578</td>\n",
              "      <td>31.972618</td>\n",
              "      <td>19.355807</td>\n",
              "      <td>15.952218</td>\n",
              "      <td>115.244002</td>\n",
              "      <td>7.884160</td>\n",
              "      <td>0.331329</td>\n",
              "      <td>11.760232</td>\n",
              "      <td>0.476951</td>\n",
              "    </tr>\n",
              "    <tr>\n",
              "      <th>min</th>\n",
              "      <td>0.000000</td>\n",
              "      <td>0.000000</td>\n",
              "      <td>0.000000</td>\n",
              "      <td>0.000000</td>\n",
              "      <td>0.000000</td>\n",
              "      <td>0.000000</td>\n",
              "      <td>0.078000</td>\n",
              "      <td>21.000000</td>\n",
              "      <td>0.000000</td>\n",
              "    </tr>\n",
              "    <tr>\n",
              "      <th>25%</th>\n",
              "      <td>1.000000</td>\n",
              "      <td>99.000000</td>\n",
              "      <td>62.000000</td>\n",
              "      <td>0.000000</td>\n",
              "      <td>0.000000</td>\n",
              "      <td>27.300000</td>\n",
              "      <td>0.243750</td>\n",
              "      <td>24.000000</td>\n",
              "      <td>0.000000</td>\n",
              "    </tr>\n",
              "    <tr>\n",
              "      <th>50%</th>\n",
              "      <td>3.000000</td>\n",
              "      <td>117.000000</td>\n",
              "      <td>72.000000</td>\n",
              "      <td>23.000000</td>\n",
              "      <td>30.500000</td>\n",
              "      <td>32.000000</td>\n",
              "      <td>0.372500</td>\n",
              "      <td>29.000000</td>\n",
              "      <td>0.000000</td>\n",
              "    </tr>\n",
              "    <tr>\n",
              "      <th>75%</th>\n",
              "      <td>6.000000</td>\n",
              "      <td>140.250000</td>\n",
              "      <td>80.000000</td>\n",
              "      <td>32.000000</td>\n",
              "      <td>127.250000</td>\n",
              "      <td>36.600000</td>\n",
              "      <td>0.626250</td>\n",
              "      <td>41.000000</td>\n",
              "      <td>1.000000</td>\n",
              "    </tr>\n",
              "    <tr>\n",
              "      <th>max</th>\n",
              "      <td>17.000000</td>\n",
              "      <td>199.000000</td>\n",
              "      <td>122.000000</td>\n",
              "      <td>99.000000</td>\n",
              "      <td>846.000000</td>\n",
              "      <td>67.100000</td>\n",
              "      <td>2.420000</td>\n",
              "      <td>81.000000</td>\n",
              "      <td>1.000000</td>\n",
              "    </tr>\n",
              "  </tbody>\n",
              "</table>\n",
              "</div>\n",
              "    <div class=\"colab-df-buttons\">\n",
              "\n",
              "  <div class=\"colab-df-container\">\n",
              "    <button class=\"colab-df-convert\" onclick=\"convertToInteractive('df-5b0ab6f6-422e-4417-a840-6943da6511a7')\"\n",
              "            title=\"Convert this dataframe to an interactive table.\"\n",
              "            style=\"display:none;\">\n",
              "\n",
              "  <svg xmlns=\"http://www.w3.org/2000/svg\" height=\"24px\" viewBox=\"0 -960 960 960\">\n",
              "    <path d=\"M120-120v-720h720v720H120Zm60-500h600v-160H180v160Zm220 220h160v-160H400v160Zm0 220h160v-160H400v160ZM180-400h160v-160H180v160Zm440 0h160v-160H620v160ZM180-180h160v-160H180v160Zm440 0h160v-160H620v160Z\"/>\n",
              "  </svg>\n",
              "    </button>\n",
              "\n",
              "  <style>\n",
              "    .colab-df-container {\n",
              "      display:flex;\n",
              "      gap: 12px;\n",
              "    }\n",
              "\n",
              "    .colab-df-convert {\n",
              "      background-color: #E8F0FE;\n",
              "      border: none;\n",
              "      border-radius: 50%;\n",
              "      cursor: pointer;\n",
              "      display: none;\n",
              "      fill: #1967D2;\n",
              "      height: 32px;\n",
              "      padding: 0 0 0 0;\n",
              "      width: 32px;\n",
              "    }\n",
              "\n",
              "    .colab-df-convert:hover {\n",
              "      background-color: #E2EBFA;\n",
              "      box-shadow: 0px 1px 2px rgba(60, 64, 67, 0.3), 0px 1px 3px 1px rgba(60, 64, 67, 0.15);\n",
              "      fill: #174EA6;\n",
              "    }\n",
              "\n",
              "    .colab-df-buttons div {\n",
              "      margin-bottom: 4px;\n",
              "    }\n",
              "\n",
              "    [theme=dark] .colab-df-convert {\n",
              "      background-color: #3B4455;\n",
              "      fill: #D2E3FC;\n",
              "    }\n",
              "\n",
              "    [theme=dark] .colab-df-convert:hover {\n",
              "      background-color: #434B5C;\n",
              "      box-shadow: 0px 1px 3px 1px rgba(0, 0, 0, 0.15);\n",
              "      filter: drop-shadow(0px 1px 2px rgba(0, 0, 0, 0.3));\n",
              "      fill: #FFFFFF;\n",
              "    }\n",
              "  </style>\n",
              "\n",
              "    <script>\n",
              "      const buttonEl =\n",
              "        document.querySelector('#df-5b0ab6f6-422e-4417-a840-6943da6511a7 button.colab-df-convert');\n",
              "      buttonEl.style.display =\n",
              "        google.colab.kernel.accessAllowed ? 'block' : 'none';\n",
              "\n",
              "      async function convertToInteractive(key) {\n",
              "        const element = document.querySelector('#df-5b0ab6f6-422e-4417-a840-6943da6511a7');\n",
              "        const dataTable =\n",
              "          await google.colab.kernel.invokeFunction('convertToInteractive',\n",
              "                                                    [key], {});\n",
              "        if (!dataTable) return;\n",
              "\n",
              "        const docLinkHtml = 'Like what you see? Visit the ' +\n",
              "          '<a target=\"_blank\" href=https://colab.research.google.com/notebooks/data_table.ipynb>data table notebook</a>'\n",
              "          + ' to learn more about interactive tables.';\n",
              "        element.innerHTML = '';\n",
              "        dataTable['output_type'] = 'display_data';\n",
              "        await google.colab.output.renderOutput(dataTable, element);\n",
              "        const docLink = document.createElement('div');\n",
              "        docLink.innerHTML = docLinkHtml;\n",
              "        element.appendChild(docLink);\n",
              "      }\n",
              "    </script>\n",
              "  </div>\n",
              "\n",
              "\n",
              "    <div id=\"df-7c327121-855d-4d79-afa0-aa5e8d27d90d\">\n",
              "      <button class=\"colab-df-quickchart\" onclick=\"quickchart('df-7c327121-855d-4d79-afa0-aa5e8d27d90d')\"\n",
              "                title=\"Suggest charts\"\n",
              "                style=\"display:none;\">\n",
              "\n",
              "<svg xmlns=\"http://www.w3.org/2000/svg\" height=\"24px\"viewBox=\"0 0 24 24\"\n",
              "     width=\"24px\">\n",
              "    <g>\n",
              "        <path d=\"M19 3H5c-1.1 0-2 .9-2 2v14c0 1.1.9 2 2 2h14c1.1 0 2-.9 2-2V5c0-1.1-.9-2-2-2zM9 17H7v-7h2v7zm4 0h-2V7h2v10zm4 0h-2v-4h2v4z\"/>\n",
              "    </g>\n",
              "</svg>\n",
              "      </button>\n",
              "\n",
              "<style>\n",
              "  .colab-df-quickchart {\n",
              "      --bg-color: #E8F0FE;\n",
              "      --fill-color: #1967D2;\n",
              "      --hover-bg-color: #E2EBFA;\n",
              "      --hover-fill-color: #174EA6;\n",
              "      --disabled-fill-color: #AAA;\n",
              "      --disabled-bg-color: #DDD;\n",
              "  }\n",
              "\n",
              "  [theme=dark] .colab-df-quickchart {\n",
              "      --bg-color: #3B4455;\n",
              "      --fill-color: #D2E3FC;\n",
              "      --hover-bg-color: #434B5C;\n",
              "      --hover-fill-color: #FFFFFF;\n",
              "      --disabled-bg-color: #3B4455;\n",
              "      --disabled-fill-color: #666;\n",
              "  }\n",
              "\n",
              "  .colab-df-quickchart {\n",
              "    background-color: var(--bg-color);\n",
              "    border: none;\n",
              "    border-radius: 50%;\n",
              "    cursor: pointer;\n",
              "    display: none;\n",
              "    fill: var(--fill-color);\n",
              "    height: 32px;\n",
              "    padding: 0;\n",
              "    width: 32px;\n",
              "  }\n",
              "\n",
              "  .colab-df-quickchart:hover {\n",
              "    background-color: var(--hover-bg-color);\n",
              "    box-shadow: 0 1px 2px rgba(60, 64, 67, 0.3), 0 1px 3px 1px rgba(60, 64, 67, 0.15);\n",
              "    fill: var(--button-hover-fill-color);\n",
              "  }\n",
              "\n",
              "  .colab-df-quickchart-complete:disabled,\n",
              "  .colab-df-quickchart-complete:disabled:hover {\n",
              "    background-color: var(--disabled-bg-color);\n",
              "    fill: var(--disabled-fill-color);\n",
              "    box-shadow: none;\n",
              "  }\n",
              "\n",
              "  .colab-df-spinner {\n",
              "    border: 2px solid var(--fill-color);\n",
              "    border-color: transparent;\n",
              "    border-bottom-color: var(--fill-color);\n",
              "    animation:\n",
              "      spin 1s steps(1) infinite;\n",
              "  }\n",
              "\n",
              "  @keyframes spin {\n",
              "    0% {\n",
              "      border-color: transparent;\n",
              "      border-bottom-color: var(--fill-color);\n",
              "      border-left-color: var(--fill-color);\n",
              "    }\n",
              "    20% {\n",
              "      border-color: transparent;\n",
              "      border-left-color: var(--fill-color);\n",
              "      border-top-color: var(--fill-color);\n",
              "    }\n",
              "    30% {\n",
              "      border-color: transparent;\n",
              "      border-left-color: var(--fill-color);\n",
              "      border-top-color: var(--fill-color);\n",
              "      border-right-color: var(--fill-color);\n",
              "    }\n",
              "    40% {\n",
              "      border-color: transparent;\n",
              "      border-right-color: var(--fill-color);\n",
              "      border-top-color: var(--fill-color);\n",
              "    }\n",
              "    60% {\n",
              "      border-color: transparent;\n",
              "      border-right-color: var(--fill-color);\n",
              "    }\n",
              "    80% {\n",
              "      border-color: transparent;\n",
              "      border-right-color: var(--fill-color);\n",
              "      border-bottom-color: var(--fill-color);\n",
              "    }\n",
              "    90% {\n",
              "      border-color: transparent;\n",
              "      border-bottom-color: var(--fill-color);\n",
              "    }\n",
              "  }\n",
              "</style>\n",
              "\n",
              "      <script>\n",
              "        async function quickchart(key) {\n",
              "          const quickchartButtonEl =\n",
              "            document.querySelector('#' + key + ' button');\n",
              "          quickchartButtonEl.disabled = true;  // To prevent multiple clicks.\n",
              "          quickchartButtonEl.classList.add('colab-df-spinner');\n",
              "          try {\n",
              "            const charts = await google.colab.kernel.invokeFunction(\n",
              "                'suggestCharts', [key], {});\n",
              "          } catch (error) {\n",
              "            console.error('Error during call to suggestCharts:', error);\n",
              "          }\n",
              "          quickchartButtonEl.classList.remove('colab-df-spinner');\n",
              "          quickchartButtonEl.classList.add('colab-df-quickchart-complete');\n",
              "        }\n",
              "        (() => {\n",
              "          let quickchartButtonEl =\n",
              "            document.querySelector('#df-7c327121-855d-4d79-afa0-aa5e8d27d90d button');\n",
              "          quickchartButtonEl.style.display =\n",
              "            google.colab.kernel.accessAllowed ? 'block' : 'none';\n",
              "        })();\n",
              "      </script>\n",
              "    </div>\n",
              "\n",
              "    </div>\n",
              "  </div>\n"
            ],
            "application/vnd.google.colaboratory.intrinsic+json": {
              "type": "dataframe",
              "summary": "{\n  \"name\": \"df\",\n  \"rows\": 8,\n  \"fields\": [\n    {\n      \"column\": \"Pregnancies\",\n      \"properties\": {\n        \"dtype\": \"number\",\n        \"std\": 269.85223453356366,\n        \"min\": 0.0,\n        \"max\": 768.0,\n        \"num_unique_values\": 8,\n        \"samples\": [\n          3.8450520833333335,\n          3.0,\n          768.0\n        ],\n        \"semantic_type\": \"\",\n        \"description\": \"\"\n      }\n    },\n    {\n      \"column\": \"Glucose\",\n      \"properties\": {\n        \"dtype\": \"number\",\n        \"std\": 243.73802348295857,\n        \"min\": 0.0,\n        \"max\": 768.0,\n        \"num_unique_values\": 8,\n        \"samples\": [\n          120.89453125,\n          117.0,\n          768.0\n        ],\n        \"semantic_type\": \"\",\n        \"description\": \"\"\n      }\n    },\n    {\n      \"column\": \"BloodPressure\",\n      \"properties\": {\n        \"dtype\": \"number\",\n        \"std\": 252.85250535810619,\n        \"min\": 0.0,\n        \"max\": 768.0,\n        \"num_unique_values\": 8,\n        \"samples\": [\n          69.10546875,\n          72.0,\n          768.0\n        ],\n        \"semantic_type\": \"\",\n        \"description\": \"\"\n      }\n    },\n    {\n      \"column\": \"SkinThickness\",\n      \"properties\": {\n        \"dtype\": \"number\",\n        \"std\": 263.7684730531098,\n        \"min\": 0.0,\n        \"max\": 768.0,\n        \"num_unique_values\": 7,\n        \"samples\": [\n          768.0,\n          20.536458333333332,\n          32.0\n        ],\n        \"semantic_type\": \"\",\n        \"description\": \"\"\n      }\n    },\n    {\n      \"column\": \"Insulin\",\n      \"properties\": {\n        \"dtype\": \"number\",\n        \"std\": 350.26059167945886,\n        \"min\": 0.0,\n        \"max\": 846.0,\n        \"num_unique_values\": 7,\n        \"samples\": [\n          768.0,\n          79.79947916666667,\n          127.25\n        ],\n        \"semantic_type\": \"\",\n        \"description\": \"\"\n      }\n    },\n    {\n      \"column\": \"BMI\",\n      \"properties\": {\n        \"dtype\": \"number\",\n        \"std\": 262.05117817552093,\n        \"min\": 0.0,\n        \"max\": 768.0,\n        \"num_unique_values\": 8,\n        \"samples\": [\n          31.992578124999998,\n          32.0,\n          768.0\n        ],\n        \"semantic_type\": \"\",\n        \"description\": \"\"\n      }\n    },\n    {\n      \"column\": \"DiabetesPedigreeFunction\",\n      \"properties\": {\n        \"dtype\": \"number\",\n        \"std\": 271.3005221658502,\n        \"min\": 0.078,\n        \"max\": 768.0,\n        \"num_unique_values\": 8,\n        \"samples\": [\n          0.47187630208333325,\n          0.3725,\n          768.0\n        ],\n        \"semantic_type\": \"\",\n        \"description\": \"\"\n      }\n    },\n    {\n      \"column\": \"Age\",\n      \"properties\": {\n        \"dtype\": \"number\",\n        \"std\": 260.1941178528413,\n        \"min\": 11.76023154067868,\n        \"max\": 768.0,\n        \"num_unique_values\": 8,\n        \"samples\": [\n          33.240885416666664,\n          29.0,\n          768.0\n        ],\n        \"semantic_type\": \"\",\n        \"description\": \"\"\n      }\n    },\n    {\n      \"column\": \"Outcome\",\n      \"properties\": {\n        \"dtype\": \"number\",\n        \"std\": 271.3865920388932,\n        \"min\": 0.0,\n        \"max\": 768.0,\n        \"num_unique_values\": 5,\n        \"samples\": [\n          0.3489583333333333,\n          1.0,\n          0.4769513772427971\n        ],\n        \"semantic_type\": \"\",\n        \"description\": \"\"\n      }\n    }\n  ]\n}"
            }
          },
          "metadata": {},
          "execution_count": 5
        }
      ],
      "source": [
        "# Estadísticas básicas\n",
        "df.describe()"
      ]
    },
    {
      "cell_type": "markdown",
      "metadata": {
        "id": "e5kR-Mqzm9se"
      },
      "source": [
        "**Observa los resultados:**  \n",
        "- ¿Detectas alguna variable que podría requerir atención especial (por ejemplo, ceros en variables donde no deberían haber ceros)?  \n",
        "- ¿Notas outliers, valores atípicos o rangos extraños?"
      ]
    },
    {
      "cell_type": "markdown",
      "source": [
        "variables que requieren atencion:Glucose, BloodPressure, SkinThickness, Insulin, 'BMI', DiabetesPedigreeFunction, Age,\n"
      ],
      "metadata": {
        "id": "UFwNc3YBNesS"
      }
    },
    {
      "cell_type": "code",
      "execution_count": 6,
      "metadata": {
        "colab": {
          "base_uri": "https://localhost:8080/"
        },
        "outputId": "4e86e84e-e0f0-4e06-e90a-f29c0a3e196f",
        "id": "OsRYvDIhY5U1"
      },
      "outputs": [
        {
          "output_type": "stream",
          "name": "stdout",
          "text": [
            "Shape: (768, 9)\n",
            "Columnas: ['Pregnancies', 'Glucose', 'BloodPressure', 'SkinThickness', 'Insulin', 'BMI', 'DiabetesPedigreeFunction', 'Age', 'Outcome']\n",
            "<class 'pandas.core.frame.DataFrame'>\n",
            "RangeIndex: 768 entries, 0 to 767\n",
            "Data columns (total 9 columns):\n",
            " #   Column                    Non-Null Count  Dtype  \n",
            "---  ------                    --------------  -----  \n",
            " 0   Pregnancies               768 non-null    int64  \n",
            " 1   Glucose                   768 non-null    int64  \n",
            " 2   BloodPressure             768 non-null    int64  \n",
            " 3   SkinThickness             768 non-null    int64  \n",
            " 4   Insulin                   768 non-null    int64  \n",
            " 5   BMI                       768 non-null    float64\n",
            " 6   DiabetesPedigreeFunction  768 non-null    float64\n",
            " 7   Age                       768 non-null    int64  \n",
            " 8   Outcome                   768 non-null    int64  \n",
            "dtypes: float64(2), int64(7)\n",
            "memory usage: 54.1 KB\n"
          ]
        }
      ],
      "source": [
        "# Dimensiones y nombres de columnas\n",
        "print(\"Shape:\", df.shape)\n",
        "print(\"Columnas:\", df.columns.tolist())\n",
        "df.info()"
      ]
    },
    {
      "cell_type": "code",
      "execution_count": 7,
      "metadata": {
        "colab": {
          "base_uri": "https://localhost:8080/"
        },
        "id": "EPSTBlkTm9sf",
        "outputId": "7abb0942-69b8-46b8-de7b-7bdd4d2f340d"
      },
      "outputs": [
        {
          "output_type": "stream",
          "name": "stdout",
          "text": [
            "Valores nulos por columna:\n",
            "Pregnancies                 0\n",
            "Glucose                     0\n",
            "BloodPressure               0\n",
            "SkinThickness               0\n",
            "Insulin                     0\n",
            "BMI                         0\n",
            "DiabetesPedigreeFunction    0\n",
            "Age                         0\n",
            "Outcome                     0\n",
            "dtype: int64\n",
            "\n",
            "Conteo de ceros (potenciales datos faltantes):\n",
            "Pregnancies                 111\n",
            "Glucose                       5\n",
            "BloodPressure                35\n",
            "SkinThickness               227\n",
            "Insulin                     374\n",
            "BMI                          11\n",
            "DiabetesPedigreeFunction      0\n",
            "Age                           0\n",
            "dtype: int64\n"
          ]
        }
      ],
      "source": [
        "# 3. Detección de valores nulos y ceros sospechosos\n",
        "print(\"Valores nulos por columna:\")\n",
        "print(df.isnull().sum())\n",
        "print(\"\\nConteo de ceros (potenciales datos faltantes):\")\n",
        "print((df.iloc[:, :-1] == 0).sum())"
      ]
    },
    {
      "cell_type": "markdown",
      "metadata": {
        "id": "-uVQizigm9sg"
      },
      "source": [
        "### Diferencia entre valores nulos ($\\text{NaN}$) y ceros ($0$) en datos\n",
        "\n",
        "Es fundamental distinguir entre **valores nulos** y **ceros** en el análisis de datos:\n",
        "\n",
        "**Valor nulo (`NaN`)**  \n",
        "Significa que **el dato no existe**, está ausente, la celda está vacía o nunca se registró información. En pandas, los valores nulos aparecen como `NaN`.  \n",
        "Ejemplo:\n",
        "\n",
        "| Glucose | Insulin |\n",
        "|---------|---------|\n",
        "| 120     | 80      |\n",
        "| *NaN*   | 60      |\n",
        "\n",
        "→ Aquí “Glucose” es un valor nulo (dato ausente)\n",
        "\n",
        "**Cero (`0`)**  \n",
        "Es un **valor numérico válido**. La celda sí tiene dato y ese dato es cero.  \n",
        "Ejemplo:\n",
        "\n",
        "| Glucose | Insulin |\n",
        "|---------|---------|\n",
        "| 120     | 80      |\n",
        "| 0       | 60      |\n",
        "\n",
        "→ Aquí “Glucose” es cero (no nulo)\n",
        "\n",
        "Por eso, en la limpieza de datos, es importante decidir cuándo un cero debe ser tratado como dato legítimo y cuándo como “dato faltante mal codificado”.\n",
        "\n",
        "\n"
      ]
    },
    {
      "cell_type": "markdown",
      "metadata": {
        "id": "SnaUTdFUm9sh"
      },
      "source": [
        "**Discusión:**  \n",
        "En variables clínicas como presión, glucosa, insulina, etc., los ceros suelen ser imposibles (indican datos faltantes mal codificados).  ¿En qué variables crees que los ceros NO deberían existir?  \n",
        "Vamos a imputar o eliminar según el caso."
      ]
    },
    {
      "cell_type": "markdown",
      "source": [
        "glucosa, presión, insulina, pliegue cutáneo e IMC en estas variables no deben haber ceros; seguneste caso vamos a imputar."
      ],
      "metadata": {
        "id": "_9dak40Ic7P4"
      }
    },
    {
      "cell_type": "code",
      "execution_count": 8,
      "metadata": {
        "colab": {
          "base_uri": "https://localhost:8080/",
          "height": 320
        },
        "id": "tDYVG9mQm9sh",
        "outputId": "b3f070da-7022-452d-dc54-f105cad7e503"
      },
      "outputs": [
        {
          "output_type": "execute_result",
          "data": {
            "text/plain": [
              "       Pregnancies     Glucose  BloodPressure  SkinThickness     Insulin  \\\n",
              "count   768.000000  768.000000     768.000000     768.000000  768.000000   \n",
              "mean      3.845052  121.656250      72.386719      27.334635   94.652344   \n",
              "std       3.369578   30.438286      12.096642       9.229014  105.547598   \n",
              "min       0.000000   44.000000      24.000000       7.000000   14.000000   \n",
              "25%       1.000000   99.750000      64.000000      23.000000   30.500000   \n",
              "50%       3.000000  117.000000      72.000000      23.000000   31.250000   \n",
              "75%       6.000000  140.250000      80.000000      32.000000  127.250000   \n",
              "max      17.000000  199.000000     122.000000      99.000000  846.000000   \n",
              "\n",
              "              BMI  DiabetesPedigreeFunction         Age     Outcome  \n",
              "count  768.000000                768.000000  768.000000  768.000000  \n",
              "mean    32.450911                  0.471876   33.240885    0.348958  \n",
              "std      6.875366                  0.331329   11.760232    0.476951  \n",
              "min     18.200000                  0.078000   21.000000    0.000000  \n",
              "25%     27.500000                  0.243750   24.000000    0.000000  \n",
              "50%     32.000000                  0.372500   29.000000    0.000000  \n",
              "75%     36.600000                  0.626250   41.000000    1.000000  \n",
              "max     67.100000                  2.420000   81.000000    1.000000  "
            ],
            "text/html": [
              "\n",
              "  <div id=\"df-48de229e-bdf1-4019-8e96-bc42e0653491\" class=\"colab-df-container\">\n",
              "    <div>\n",
              "<style scoped>\n",
              "    .dataframe tbody tr th:only-of-type {\n",
              "        vertical-align: middle;\n",
              "    }\n",
              "\n",
              "    .dataframe tbody tr th {\n",
              "        vertical-align: top;\n",
              "    }\n",
              "\n",
              "    .dataframe thead th {\n",
              "        text-align: right;\n",
              "    }\n",
              "</style>\n",
              "<table border=\"1\" class=\"dataframe\">\n",
              "  <thead>\n",
              "    <tr style=\"text-align: right;\">\n",
              "      <th></th>\n",
              "      <th>Pregnancies</th>\n",
              "      <th>Glucose</th>\n",
              "      <th>BloodPressure</th>\n",
              "      <th>SkinThickness</th>\n",
              "      <th>Insulin</th>\n",
              "      <th>BMI</th>\n",
              "      <th>DiabetesPedigreeFunction</th>\n",
              "      <th>Age</th>\n",
              "      <th>Outcome</th>\n",
              "    </tr>\n",
              "  </thead>\n",
              "  <tbody>\n",
              "    <tr>\n",
              "      <th>count</th>\n",
              "      <td>768.000000</td>\n",
              "      <td>768.000000</td>\n",
              "      <td>768.000000</td>\n",
              "      <td>768.000000</td>\n",
              "      <td>768.000000</td>\n",
              "      <td>768.000000</td>\n",
              "      <td>768.000000</td>\n",
              "      <td>768.000000</td>\n",
              "      <td>768.000000</td>\n",
              "    </tr>\n",
              "    <tr>\n",
              "      <th>mean</th>\n",
              "      <td>3.845052</td>\n",
              "      <td>121.656250</td>\n",
              "      <td>72.386719</td>\n",
              "      <td>27.334635</td>\n",
              "      <td>94.652344</td>\n",
              "      <td>32.450911</td>\n",
              "      <td>0.471876</td>\n",
              "      <td>33.240885</td>\n",
              "      <td>0.348958</td>\n",
              "    </tr>\n",
              "    <tr>\n",
              "      <th>std</th>\n",
              "      <td>3.369578</td>\n",
              "      <td>30.438286</td>\n",
              "      <td>12.096642</td>\n",
              "      <td>9.229014</td>\n",
              "      <td>105.547598</td>\n",
              "      <td>6.875366</td>\n",
              "      <td>0.331329</td>\n",
              "      <td>11.760232</td>\n",
              "      <td>0.476951</td>\n",
              "    </tr>\n",
              "    <tr>\n",
              "      <th>min</th>\n",
              "      <td>0.000000</td>\n",
              "      <td>44.000000</td>\n",
              "      <td>24.000000</td>\n",
              "      <td>7.000000</td>\n",
              "      <td>14.000000</td>\n",
              "      <td>18.200000</td>\n",
              "      <td>0.078000</td>\n",
              "      <td>21.000000</td>\n",
              "      <td>0.000000</td>\n",
              "    </tr>\n",
              "    <tr>\n",
              "      <th>25%</th>\n",
              "      <td>1.000000</td>\n",
              "      <td>99.750000</td>\n",
              "      <td>64.000000</td>\n",
              "      <td>23.000000</td>\n",
              "      <td>30.500000</td>\n",
              "      <td>27.500000</td>\n",
              "      <td>0.243750</td>\n",
              "      <td>24.000000</td>\n",
              "      <td>0.000000</td>\n",
              "    </tr>\n",
              "    <tr>\n",
              "      <th>50%</th>\n",
              "      <td>3.000000</td>\n",
              "      <td>117.000000</td>\n",
              "      <td>72.000000</td>\n",
              "      <td>23.000000</td>\n",
              "      <td>31.250000</td>\n",
              "      <td>32.000000</td>\n",
              "      <td>0.372500</td>\n",
              "      <td>29.000000</td>\n",
              "      <td>0.000000</td>\n",
              "    </tr>\n",
              "    <tr>\n",
              "      <th>75%</th>\n",
              "      <td>6.000000</td>\n",
              "      <td>140.250000</td>\n",
              "      <td>80.000000</td>\n",
              "      <td>32.000000</td>\n",
              "      <td>127.250000</td>\n",
              "      <td>36.600000</td>\n",
              "      <td>0.626250</td>\n",
              "      <td>41.000000</td>\n",
              "      <td>1.000000</td>\n",
              "    </tr>\n",
              "    <tr>\n",
              "      <th>max</th>\n",
              "      <td>17.000000</td>\n",
              "      <td>199.000000</td>\n",
              "      <td>122.000000</td>\n",
              "      <td>99.000000</td>\n",
              "      <td>846.000000</td>\n",
              "      <td>67.100000</td>\n",
              "      <td>2.420000</td>\n",
              "      <td>81.000000</td>\n",
              "      <td>1.000000</td>\n",
              "    </tr>\n",
              "  </tbody>\n",
              "</table>\n",
              "</div>\n",
              "    <div class=\"colab-df-buttons\">\n",
              "\n",
              "  <div class=\"colab-df-container\">\n",
              "    <button class=\"colab-df-convert\" onclick=\"convertToInteractive('df-48de229e-bdf1-4019-8e96-bc42e0653491')\"\n",
              "            title=\"Convert this dataframe to an interactive table.\"\n",
              "            style=\"display:none;\">\n",
              "\n",
              "  <svg xmlns=\"http://www.w3.org/2000/svg\" height=\"24px\" viewBox=\"0 -960 960 960\">\n",
              "    <path d=\"M120-120v-720h720v720H120Zm60-500h600v-160H180v160Zm220 220h160v-160H400v160Zm0 220h160v-160H400v160ZM180-400h160v-160H180v160Zm440 0h160v-160H620v160ZM180-180h160v-160H180v160Zm440 0h160v-160H620v160Z\"/>\n",
              "  </svg>\n",
              "    </button>\n",
              "\n",
              "  <style>\n",
              "    .colab-df-container {\n",
              "      display:flex;\n",
              "      gap: 12px;\n",
              "    }\n",
              "\n",
              "    .colab-df-convert {\n",
              "      background-color: #E8F0FE;\n",
              "      border: none;\n",
              "      border-radius: 50%;\n",
              "      cursor: pointer;\n",
              "      display: none;\n",
              "      fill: #1967D2;\n",
              "      height: 32px;\n",
              "      padding: 0 0 0 0;\n",
              "      width: 32px;\n",
              "    }\n",
              "\n",
              "    .colab-df-convert:hover {\n",
              "      background-color: #E2EBFA;\n",
              "      box-shadow: 0px 1px 2px rgba(60, 64, 67, 0.3), 0px 1px 3px 1px rgba(60, 64, 67, 0.15);\n",
              "      fill: #174EA6;\n",
              "    }\n",
              "\n",
              "    .colab-df-buttons div {\n",
              "      margin-bottom: 4px;\n",
              "    }\n",
              "\n",
              "    [theme=dark] .colab-df-convert {\n",
              "      background-color: #3B4455;\n",
              "      fill: #D2E3FC;\n",
              "    }\n",
              "\n",
              "    [theme=dark] .colab-df-convert:hover {\n",
              "      background-color: #434B5C;\n",
              "      box-shadow: 0px 1px 3px 1px rgba(0, 0, 0, 0.15);\n",
              "      filter: drop-shadow(0px 1px 2px rgba(0, 0, 0, 0.3));\n",
              "      fill: #FFFFFF;\n",
              "    }\n",
              "  </style>\n",
              "\n",
              "    <script>\n",
              "      const buttonEl =\n",
              "        document.querySelector('#df-48de229e-bdf1-4019-8e96-bc42e0653491 button.colab-df-convert');\n",
              "      buttonEl.style.display =\n",
              "        google.colab.kernel.accessAllowed ? 'block' : 'none';\n",
              "\n",
              "      async function convertToInteractive(key) {\n",
              "        const element = document.querySelector('#df-48de229e-bdf1-4019-8e96-bc42e0653491');\n",
              "        const dataTable =\n",
              "          await google.colab.kernel.invokeFunction('convertToInteractive',\n",
              "                                                    [key], {});\n",
              "        if (!dataTable) return;\n",
              "\n",
              "        const docLinkHtml = 'Like what you see? Visit the ' +\n",
              "          '<a target=\"_blank\" href=https://colab.research.google.com/notebooks/data_table.ipynb>data table notebook</a>'\n",
              "          + ' to learn more about interactive tables.';\n",
              "        element.innerHTML = '';\n",
              "        dataTable['output_type'] = 'display_data';\n",
              "        await google.colab.output.renderOutput(dataTable, element);\n",
              "        const docLink = document.createElement('div');\n",
              "        docLink.innerHTML = docLinkHtml;\n",
              "        element.appendChild(docLink);\n",
              "      }\n",
              "    </script>\n",
              "  </div>\n",
              "\n",
              "\n",
              "    <div id=\"df-415c0f21-0b03-4ef7-8447-f1d237a09041\">\n",
              "      <button class=\"colab-df-quickchart\" onclick=\"quickchart('df-415c0f21-0b03-4ef7-8447-f1d237a09041')\"\n",
              "                title=\"Suggest charts\"\n",
              "                style=\"display:none;\">\n",
              "\n",
              "<svg xmlns=\"http://www.w3.org/2000/svg\" height=\"24px\"viewBox=\"0 0 24 24\"\n",
              "     width=\"24px\">\n",
              "    <g>\n",
              "        <path d=\"M19 3H5c-1.1 0-2 .9-2 2v14c0 1.1.9 2 2 2h14c1.1 0 2-.9 2-2V5c0-1.1-.9-2-2-2zM9 17H7v-7h2v7zm4 0h-2V7h2v10zm4 0h-2v-4h2v4z\"/>\n",
              "    </g>\n",
              "</svg>\n",
              "      </button>\n",
              "\n",
              "<style>\n",
              "  .colab-df-quickchart {\n",
              "      --bg-color: #E8F0FE;\n",
              "      --fill-color: #1967D2;\n",
              "      --hover-bg-color: #E2EBFA;\n",
              "      --hover-fill-color: #174EA6;\n",
              "      --disabled-fill-color: #AAA;\n",
              "      --disabled-bg-color: #DDD;\n",
              "  }\n",
              "\n",
              "  [theme=dark] .colab-df-quickchart {\n",
              "      --bg-color: #3B4455;\n",
              "      --fill-color: #D2E3FC;\n",
              "      --hover-bg-color: #434B5C;\n",
              "      --hover-fill-color: #FFFFFF;\n",
              "      --disabled-bg-color: #3B4455;\n",
              "      --disabled-fill-color: #666;\n",
              "  }\n",
              "\n",
              "  .colab-df-quickchart {\n",
              "    background-color: var(--bg-color);\n",
              "    border: none;\n",
              "    border-radius: 50%;\n",
              "    cursor: pointer;\n",
              "    display: none;\n",
              "    fill: var(--fill-color);\n",
              "    height: 32px;\n",
              "    padding: 0;\n",
              "    width: 32px;\n",
              "  }\n",
              "\n",
              "  .colab-df-quickchart:hover {\n",
              "    background-color: var(--hover-bg-color);\n",
              "    box-shadow: 0 1px 2px rgba(60, 64, 67, 0.3), 0 1px 3px 1px rgba(60, 64, 67, 0.15);\n",
              "    fill: var(--button-hover-fill-color);\n",
              "  }\n",
              "\n",
              "  .colab-df-quickchart-complete:disabled,\n",
              "  .colab-df-quickchart-complete:disabled:hover {\n",
              "    background-color: var(--disabled-bg-color);\n",
              "    fill: var(--disabled-fill-color);\n",
              "    box-shadow: none;\n",
              "  }\n",
              "\n",
              "  .colab-df-spinner {\n",
              "    border: 2px solid var(--fill-color);\n",
              "    border-color: transparent;\n",
              "    border-bottom-color: var(--fill-color);\n",
              "    animation:\n",
              "      spin 1s steps(1) infinite;\n",
              "  }\n",
              "\n",
              "  @keyframes spin {\n",
              "    0% {\n",
              "      border-color: transparent;\n",
              "      border-bottom-color: var(--fill-color);\n",
              "      border-left-color: var(--fill-color);\n",
              "    }\n",
              "    20% {\n",
              "      border-color: transparent;\n",
              "      border-left-color: var(--fill-color);\n",
              "      border-top-color: var(--fill-color);\n",
              "    }\n",
              "    30% {\n",
              "      border-color: transparent;\n",
              "      border-left-color: var(--fill-color);\n",
              "      border-top-color: var(--fill-color);\n",
              "      border-right-color: var(--fill-color);\n",
              "    }\n",
              "    40% {\n",
              "      border-color: transparent;\n",
              "      border-right-color: var(--fill-color);\n",
              "      border-top-color: var(--fill-color);\n",
              "    }\n",
              "    60% {\n",
              "      border-color: transparent;\n",
              "      border-right-color: var(--fill-color);\n",
              "    }\n",
              "    80% {\n",
              "      border-color: transparent;\n",
              "      border-right-color: var(--fill-color);\n",
              "      border-bottom-color: var(--fill-color);\n",
              "    }\n",
              "    90% {\n",
              "      border-color: transparent;\n",
              "      border-bottom-color: var(--fill-color);\n",
              "    }\n",
              "  }\n",
              "</style>\n",
              "\n",
              "      <script>\n",
              "        async function quickchart(key) {\n",
              "          const quickchartButtonEl =\n",
              "            document.querySelector('#' + key + ' button');\n",
              "          quickchartButtonEl.disabled = true;  // To prevent multiple clicks.\n",
              "          quickchartButtonEl.classList.add('colab-df-spinner');\n",
              "          try {\n",
              "            const charts = await google.colab.kernel.invokeFunction(\n",
              "                'suggestCharts', [key], {});\n",
              "          } catch (error) {\n",
              "            console.error('Error during call to suggestCharts:', error);\n",
              "          }\n",
              "          quickchartButtonEl.classList.remove('colab-df-spinner');\n",
              "          quickchartButtonEl.classList.add('colab-df-quickchart-complete');\n",
              "        }\n",
              "        (() => {\n",
              "          let quickchartButtonEl =\n",
              "            document.querySelector('#df-415c0f21-0b03-4ef7-8447-f1d237a09041 button');\n",
              "          quickchartButtonEl.style.display =\n",
              "            google.colab.kernel.accessAllowed ? 'block' : 'none';\n",
              "        })();\n",
              "      </script>\n",
              "    </div>\n",
              "\n",
              "    </div>\n",
              "  </div>\n"
            ],
            "application/vnd.google.colaboratory.intrinsic+json": {
              "type": "dataframe",
              "summary": "{\n  \"name\": \"df\",\n  \"rows\": 8,\n  \"fields\": [\n    {\n      \"column\": \"Pregnancies\",\n      \"properties\": {\n        \"dtype\": \"number\",\n        \"std\": 269.85223453356366,\n        \"min\": 0.0,\n        \"max\": 768.0,\n        \"num_unique_values\": 8,\n        \"samples\": [\n          3.8450520833333335,\n          3.0,\n          768.0\n        ],\n        \"semantic_type\": \"\",\n        \"description\": \"\"\n      }\n    },\n    {\n      \"column\": \"Glucose\",\n      \"properties\": {\n        \"dtype\": \"number\",\n        \"std\": 239.51168557183297,\n        \"min\": 30.43828582241517,\n        \"max\": 768.0,\n        \"num_unique_values\": 8,\n        \"samples\": [\n          121.65625,\n          117.0,\n          768.0\n        ],\n        \"semantic_type\": \"\",\n        \"description\": \"\"\n      }\n    },\n    {\n      \"column\": \"BloodPressure\",\n      \"properties\": {\n        \"dtype\": \"number\",\n        \"std\": 251.2764376086552,\n        \"min\": 12.096641733978139,\n        \"max\": 768.0,\n        \"num_unique_values\": 8,\n        \"samples\": [\n          72.38671875,\n          72.0,\n          768.0\n        ],\n        \"semantic_type\": \"\",\n        \"description\": \"\"\n      }\n    },\n    {\n      \"column\": \"SkinThickness\",\n      \"properties\": {\n        \"dtype\": \"number\",\n        \"std\": 261.97903291393493,\n        \"min\": 7.0,\n        \"max\": 768.0,\n        \"num_unique_values\": 7,\n        \"samples\": [\n          768.0,\n          27.334635416666668,\n          32.0\n        ],\n        \"semantic_type\": \"\",\n        \"description\": \"\"\n      }\n    },\n    {\n      \"column\": \"Insulin\",\n      \"properties\": {\n        \"dtype\": \"number\",\n        \"std\": 345.43922059327565,\n        \"min\": 14.0,\n        \"max\": 846.0,\n        \"num_unique_values\": 8,\n        \"samples\": [\n          94.65234375,\n          31.25,\n          768.0\n        ],\n        \"semantic_type\": \"\",\n        \"description\": \"\"\n      }\n    },\n    {\n      \"column\": \"BMI\",\n      \"properties\": {\n        \"dtype\": \"number\",\n        \"std\": 260.9543845566356,\n        \"min\": 6.875366469974721,\n        \"max\": 768.0,\n        \"num_unique_values\": 8,\n        \"samples\": [\n          32.45091145833333,\n          32.0,\n          768.0\n        ],\n        \"semantic_type\": \"\",\n        \"description\": \"\"\n      }\n    },\n    {\n      \"column\": \"DiabetesPedigreeFunction\",\n      \"properties\": {\n        \"dtype\": \"number\",\n        \"std\": 271.3005221658502,\n        \"min\": 0.078,\n        \"max\": 768.0,\n        \"num_unique_values\": 8,\n        \"samples\": [\n          0.47187630208333325,\n          0.3725,\n          768.0\n        ],\n        \"semantic_type\": \"\",\n        \"description\": \"\"\n      }\n    },\n    {\n      \"column\": \"Age\",\n      \"properties\": {\n        \"dtype\": \"number\",\n        \"std\": 260.1941178528413,\n        \"min\": 11.76023154067868,\n        \"max\": 768.0,\n        \"num_unique_values\": 8,\n        \"samples\": [\n          33.240885416666664,\n          29.0,\n          768.0\n        ],\n        \"semantic_type\": \"\",\n        \"description\": \"\"\n      }\n    },\n    {\n      \"column\": \"Outcome\",\n      \"properties\": {\n        \"dtype\": \"number\",\n        \"std\": 271.3865920388932,\n        \"min\": 0.0,\n        \"max\": 768.0,\n        \"num_unique_values\": 5,\n        \"samples\": [\n          0.3489583333333333,\n          1.0,\n          0.4769513772427971\n        ],\n        \"semantic_type\": \"\",\n        \"description\": \"\"\n      }\n    }\n  ]\n}"
            }
          },
          "metadata": {},
          "execution_count": 8
        }
      ],
      "source": [
        "# 4. Limpieza: Imputar ceros sospechosos con la mediana (excepto en 'Pregnancies' y 'Outcome')\n",
        "vars_con_ceros_invalidos = ['Glucose', 'BloodPressure', 'SkinThickness', 'Insulin', 'BMI']\n",
        "for col in vars_con_ceros_invalidos:\n",
        "    mediana = df[col].median()\n",
        "    df[col] = df[col].replace(0, mediana)\n",
        "df.describe()"
      ]
    },
    {
      "cell_type": "markdown",
      "metadata": {
        "id": "8npJbdSBm9sh"
      },
      "source": [
        "**Revisa nuevamente las estadísticas.**  \n",
        "¿Notas cambios en las variables?  \n",
        "¿Por qué usamos la mediana y no el promedio para imputar?"
      ]
    },
    {
      "cell_type": "markdown",
      "source": [
        "si noto cammbios en las variables;usamos la mediana, porque la glucosa e insulina suelen tener valores extremos."
      ],
      "metadata": {
        "id": "g97qATy8e4UH"
      }
    },
    {
      "cell_type": "code",
      "execution_count": 9,
      "metadata": {
        "colab": {
          "base_uri": "https://localhost:8080/",
          "height": 329
        },
        "id": "fPyzayU2m9si",
        "outputId": "cb3fa28f-a075-4e07-839b-ef291545e119"
      },
      "outputs": [
        {
          "output_type": "display_data",
          "data": {
            "text/plain": [
              "<Figure size 1500x800 with 6 Axes>"
            ],
            "image/png": "[encoded data removed]"
          },
          "metadata": {}
        }
      ],
      "source": [
        "# 5. Visualización rápida para detectar posibles outliers\n",
        "fig, axes = plt.subplots(2, 3, figsize=(15,8))\n",
        "cols = vars_con_ceros_invalidos + ['Age']\n",
        "for i, col in enumerate(cols):\n",
        "    sns.boxplot(data=df, y=col, ax=axes[i//3, i%3])\n",
        "    axes[i//3, i%3].set_title(col)\n",
        "plt.tight_layout()\n",
        "plt.show()"
      ]
    },
    {
      "cell_type": "markdown",
      "metadata": {
        "id": "H-Sz4dYem9si"
      },
      "source": [
        "**Actividad:**  \n",
        "Observa los boxplots.  \n",
        "- ¿Qué variables muestran valores extremos (outliers)?  \n",
        "- ¿Qué harías con ellos: eliminarlos, transformarlos o dejarlos?  \n",
        "Discútelo antes de avanzar."
      ]
    },
    {
      "cell_type": "markdown",
      "source": [
        "la insulina muestra valores extremos.En el casodela insulina lo transformo."
      ],
      "metadata": {
        "id": "v5pOYVtRiT9B"
      }
    },
    {
      "cell_type": "markdown",
      "metadata": {
        "id": "urTjVT4Tm9si"
      },
      "source": [
        "**Guía para interpretar los boxplots:**\n",
        "\n",
        "- En cada boxplot, el **rectángulo** (la “caja”) muestra el rango entre el primer y tercer cuartil (Q1 y Q3).\n",
        "- La **línea dentro de la caja** es la mediana (el valor central).\n",
        "- Los **“bigotes”** se extienden hasta el valor máximo y mínimo que no se consideran outliers (generalmente 1.5 veces el rango intercuartílico).\n",
        "- **Los puntos fuera del bigote** son considerados **outliers** o valores atípicos.\n",
        "\n",
        "**¿Qué hacer con los outliers?**\n",
        "- Si una variable muestra varios puntos fuera del bigote, esa variable tiene valores extremos y podría necesitar limpieza adicional.\n",
        "- Opciones para tratar los outliers:\n",
        "    - **Eliminarlos:** si sabes que son errores o casos imposibles.\n",
        "    - **Transformarlos:** usando logaritmos, winsorización o recorte de valores extremos.\n",
        "    - **Dejarlos:** si representan casos reales y válidos, aunque sean poco frecuentes.\n",
        "\n",
        "No hay una única respuesta correcta: **la decisión depende del contexto y del impacto que estos valores tengan en el análisis y los modelos**.  \n",
        "Discútelo en tu grupo antes de decidir cómo tratar los outliers.\n",
        "\n"
      ]
    },
    {
      "cell_type": "code",
      "execution_count": 10,
      "metadata": {
        "colab": {
          "base_uri": "https://localhost:8080/"
        },
        "id": "ECbI-vbum9sj",
        "outputId": "c7d0fc09-0ff3-4dbc-d24f-c2d7f99679fb"
      },
      "outputs": [
        {
          "output_type": "stream",
          "name": "stdout",
          "text": [
            "Percentiles altos de Insulin:\n",
            "0.950    293.000\n",
            "0.990    519.900\n",
            "0.999    767.766\n",
            "Name: Insulin, dtype: float64\n"
          ]
        }
      ],
      "source": [
        "# Calcular percentiles altos de la variable Insulin\n",
        "percentiles = df['Insulin'].quantile([0.95, 0.99, 0.999])\n",
        "print(\"Percentiles altos de Insulin:\")\n",
        "print(percentiles)\n"
      ]
    },
    {
      "cell_type": "code",
      "execution_count": 11,
      "metadata": {
        "colab": {
          "base_uri": "https://localhost:8080/"
        },
        "id": "zf5LmlnMm9sj",
        "outputId": "5b75fbe8-36fa-460e-9df7-4507dd434e19"
      },
      "outputs": [
        {
          "output_type": "stream",
          "name": "stdout",
          "text": [
            "Todos los valores de Insulin ahora están por debajo de 519.90\n"
          ]
        }
      ],
      "source": [
        "# Calcular el valor del percentil 99 para Insulin\n",
        "p99 = df['Insulin'].quantile(0.99)\n",
        "\n",
        "# Winsorizar: recortar los valores superiores al percentil 99\n",
        "df['Insulin'] = np.where(df['Insulin'] > p99, p99, df['Insulin'])\n",
        "\n",
        "print(f\"Todos los valores de Insulin ahora están por debajo de {p99:.2f}\")\n"
      ]
    },
    {
      "cell_type": "markdown",
      "metadata": {
        "id": "R6G3I8i2m9sk"
      },
      "source": [
        "### Nota clínica sobre valores de insulina\n",
        "\n",
        "Diversos estudios y fuentes clínicas reportan que, en adultos sanos, los niveles de insulina en sangre en ayunas oscilan entre **2 y 25 µU/mL**.  \n",
        "En personas con **resistencia a la insulina** o diabetes tipo 2, estos valores pueden aumentar significativamente, llegando en algunos casos a **100-200 µU/mL** después de una carga de glucosa o en estados de hiperinsulinemia.  \n",
        "Sin embargo, valores persistentemente por encima de **300-400 µU/mL** son poco frecuentes, incluso en poblaciones diabéticas, y suelen estar asociados a condiciones clínicas excepcionales, errores de laboratorio o problemas en la captura de datos.\n",
        "\n",
        "*Referencia: Bonora E, et al. \"Homeostasis Model Assessment closely mirrors the glucose clamp technique in the assessment of insulin sensitivity: Studies in subjects with various degrees of glucose tolerance and insulin sensitivity.\" Diabetes Care, 2000; ADA Clinical Chemistry Guidelines, 2021.*\n",
        "\n",
        "---\n",
        "\n",
        "### Justificación de la limpieza por percentil 99\n",
        "\n",
        "Aunque el dataset se compone de pacientes con diabetes, aplicar un recorte (“winsorización”) en el percentil 99 de la variable `Insulin` es una práctica estadística razonable para limitar el impacto de valores atípicos extremos, que pueden deberse a errores o a condiciones muy poco frecuentes.  \n",
        "De este modo, protegemos el análisis y la capacidad de generalización del modelo, conservando la gran mayoría de los casos reales —incluyendo pacientes con insulina elevada por resistencia— y reduciendo la influencia de registros poco fiables.\n",
        "\n",
        "> *Esta decisión se toma para asegurar que los modelos aprendan sobre patrones representativos de la población diabética, sin verse distorsionados por datos extremos o potencialmente erróneos.*\n"
      ]
    },
    {
      "cell_type": "markdown",
      "metadata": {
        "id": "I0kg4fxBm9sk"
      },
      "source": [
        "### Fundamento teórico del método K-Nearest Neighbors (KNN)\n",
        "\n",
        "El algoritmo **K-Nearest Neighbors (KNN)** es un clasificador supervisado no paramétrico que predice la clase de una muestra observando las clases de sus “k” vecinos más cercanos en el espacio de características.\n",
        "\n",
        "#### ¿Cómo funciona?\n",
        "\n",
        "1. Dados los datos de entrenamiento $\\mathcal{D} = \\{(\\mathbf{x}_i, y_i)\\}_{i=1}^n$, donde $\\mathbf{x}_i \\in \\mathbb{R}^p$ es un vector de características y $y_i$ la etiqueta de clase.\n",
        "2. Para clasificar una nueva muestra $\\mathbf{x}$:\n",
        "   - Se calcula la **distancia** entre $\\mathbf{x}$ y cada $\\mathbf{x}_i$ del conjunto de entrenamiento (usualmente, **distancia euclidiana**: $\\|\\mathbf{x} - \\mathbf{x}_i\\|_2$).\n",
        "   - Se identifican los $k$ puntos de entrenamiento más cercanos a $\\mathbf{x}$.\n",
        "   - Se asigna la clase **más frecuente** entre esos $k$ vecinos:  \n",
        "     $$\n",
        "     \\hat{y} = \\mathrm{mode}(\\{y_{i_1}, y_{i_2}, ..., y_{i_k}\\})\n",
        "     $$\n",
        "     donde $i_1, ..., i_k$ son los índices de los $k$ vecinos más próximos.\n",
        "\n",
        "#### ¿Por qué es importante escalar las variables?\n",
        "\n",
        "KNN **depende completamente de las distancias** entre los puntos en el espacio de características. Si las variables tienen diferentes escalas (por ejemplo, edad en años y glucosa en mg/dL), las variables de mayor rango dominarán la métrica de distancia, distorsionando el resultado.\n",
        "\n",
        "Por eso, **antes de usar KNN es fundamental escalar todas las variables numéricas** (con StandardScaler o MinMaxScaler), para que cada característica tenga la misma influencia en el cálculo de distancia.\n",
        "\n",
        "---\n",
        "\n",
        "En el código, la variable `X` contiene todas las características (excepto la columna objetivo `Outcome`), y `y` contiene las clases.  \n",
        "La división entre entrenamiento y prueba (`train_test_split`) permite evaluar el desempeño del modelo sobre datos no vistos.  \n",
        "El escalado con `StandardScaler` asegura que todas las variables numéricas tengan media cero y varianza uno, haciendo el cálculo de distancias más justo y efectivo para KNN.\n",
        "\n",
        "---\n",
        "\n",
        "**Referencia:**  \n",
        "Cover, T., & Hart, P. (1967). Nearest neighbor pattern classification. *IEEE Transactions on Information Theory*, 13(1), 21-27. https://doi.org/10.1109/TIT.1967.1053964\n"
      ]
    },
    {
      "cell_type": "markdown",
      "metadata": {
        "id": "k_QeNqIGm9sl"
      },
      "source": [
        "### Diferencia intuitiva entre KNN y K-Means\n",
        "\n",
        "- **KNN (K-Nearest Neighbors)** es como preguntarle a tus vecinos cómo debes etiquetar algo:\n",
        "  - Imagínate que tienes una fruta misteriosa. Buscas las frutas más cercanas (en forma, color, peso, etc.) y le preguntas a cada una: “¿Tú qué eres?”  \n",
        "  - Si la mayoría responde “manzana”, entonces clasificas la fruta misteriosa como manzana.\n",
        "  - **KNN necesita que ya conozcas la etiqueta (clase) de tus ejemplos previos.**\n",
        "\n",
        "- **K-Means** es como organizar tus cosas en grupos sin saber qué son:\n",
        "  - Imagina que tienes muchas frutas mezcladas y quieres agruparlas en cajas, pero sin saber su nombre.\n",
        "  - El algoritmo busca formar grupos (clústeres) de frutas parecidas entre sí, basándose solo en sus características (tamaño, color, peso…).\n",
        "  - **K-Means no necesita etiquetas previas. Solo agrupa por similitud.**\n",
        "\n",
        "---\n",
        "\n",
        "|              | KNN                              | K-Means                        |\n",
        "|--------------|----------------------------------|--------------------------------|\n",
        "| ¿Supervisado?| Sí (usa etiquetas conocidas)     | No (no usa etiquetas)          |\n",
        "| ¿Para qué sirve? | Clasificar o predecir etiquetas | Agrupar datos similares        |\n",
        "| ¿Cómo decide? | Por voto de vecinos más cercanos | Formando grupos según centros  |\n",
        "| ¿Predice?    | Sí, etiqueta de nuevos datos     | No, solo asigna a un grupo     |\n",
        "\n",
        "---\n",
        "\n",
        "**En resumen:**  \n",
        "- **KNN**: “¿A qué se parecen mis vecinos?” (clasificación)\n",
        "- **K-Means**: “¿Con quién me parezco más?” (agrupación)\n"
      ]
    },
    {
      "cell_type": "markdown",
      "metadata": {
        "id": "wdleeN9_m9sl"
      },
      "source": [
        "## Preprocesamiento: División y escalado de datos"
      ]
    },
    {
      "cell_type": "code",
      "execution_count": 12,
      "metadata": {
        "id": "LxQZYfBNm9sm"
      },
      "outputs": [],
      "source": [
        "# 6. Preparación para modelado\n",
        "from sklearn.model_selection import train_test_split\n",
        "from sklearn.preprocessing import StandardScaler\n",
        "\n",
        "# Variables predictoras y objetivo\n",
        "X = df.drop('Outcome', axis=1)\n",
        "y = df['Outcome']\n",
        "\n",
        "# División train/test\n",
        "X_train, X_test, y_train, y_test = train_test_split(X, y, test_size=0.2, random_state=42, stratify=y)\n",
        "\n",
        "# Escalado (importante para KNN)\n",
        "scaler = StandardScaler()\n",
        "X_train_scaled = scaler.fit_transform(X_train)  # X_train tiene las 8 columnas\n",
        "X_test_scaled = scaler.transform(X_test)  # X_test tiene las 8 columnas"
      ]
    },
    {
      "cell_type": "markdown",
      "metadata": {
        "id": "rwlm0AkSm9sm"
      },
      "source": [
        "**Pregunta:**  \n",
        "- ¿Por qué es importante escalar las variables cuando usamos KNN?"
      ]
    },
    {
      "cell_type": "markdown",
      "metadata": {
        "id": "49ij-uGtm9sm"
      },
      "source": [
        "## Modelado 1: K-Nearest Neighbors (KNN)"
      ]
    },
    {
      "cell_type": "code",
      "execution_count": 21,
      "metadata": {
        "colab": {
          "base_uri": "https://localhost:8080/"
        },
        "id": "inq9xrICm9sm",
        "outputId": "75c8118a-b502-4c89-ecf8-9f210a7ec2c4"
      },
      "outputs": [
        {
          "output_type": "stream",
          "name": "stdout",
          "text": [
            "Accuracy KNN: 0.7207792207792207\n",
            "\n",
            "Matriz de confusión:\n",
            " [[83 17]\n",
            " [26 28]]\n",
            "\n",
            "Reporte de clasificación:\n",
            "               precision    recall  f1-score   support\n",
            "\n",
            "           0       0.76      0.83      0.79       100\n",
            "           1       0.62      0.52      0.57        54\n",
            "\n",
            "    accuracy                           0.72       154\n",
            "   macro avg       0.69      0.67      0.68       154\n",
            "weighted avg       0.71      0.72      0.71       154\n",
            "\n"
          ]
        }
      ],
      "source": [
        "# 7. Entrenamiento y evaluación de KNN\n",
        "from sklearn.neighbors import KNeighborsClassifier\n",
        "from sklearn.metrics import accuracy_score, confusion_matrix, classification_report\n",
        "\n",
        "knn = KNeighborsClassifier(n_neighbors=5)\n",
        "knn.fit(X_train_scaled, y_train)\n",
        "y_pred_knn = knn.predict(X_test_scaled)\n",
        "\n",
        "print(\"Accuracy KNN:\", accuracy_score(y_test, y_pred_knn))\n",
        "print(\"\\nMatriz de confusión:\\n\", confusion_matrix(y_test, y_pred_knn))\n",
        "print(\"\\nReporte de clasificación:\\n\", classification_report(y_test, y_pred_knn))"
      ]
    },
    {
      "cell_type": "markdown",
      "metadata": {
        "id": "NwFOuzSbm9sn"
      },
      "source": [
        "**Interpreta los resultados:**  \n",
        "- ¿Cómo ves la precisión del modelo?  \n",
        "- ¿Hay clases que predice mejor o peor?"
      ]
    },
    {
      "cell_type": "markdown",
      "source": [
        "El modelo está desequilibrado en desempeño:\n",
        "\n",
        "Detecta bien la clase 0 (alta recall y precisión).\n",
        "\n",
        "Falla más en la clase 1, le cuesta identificarlos y se queda en un recall bajo (muchos falsos negativos).\n",
        "\n",
        "Si este fuera un modelo de diagnóstico médico, sería riesgoso, porque está dejando escapar demasiados pacientes que realmente sí tienen la condición (26 casos)."
      ],
      "metadata": {
        "id": "CH-B7GftHuMK"
      }
    },
    {
      "cell_type": "code",
      "source": [
        "df['Outcome'].value_counts(normalize=True)\n"
      ],
      "metadata": {
        "colab": {
          "base_uri": "https://localhost:8080/",
          "height": 178
        },
        "id": "4CCcjVpVq7N0",
        "outputId": "4b5010cd-12ab-495a-fa81-95b337aff28b"
      },
      "execution_count": 14,
      "outputs": [
        {
          "output_type": "execute_result",
          "data": {
            "text/plain": [
              "Outcome\n",
              "0    0.651042\n",
              "1    0.348958\n",
              "Name: proportion, dtype: float64"
            ],
            "text/html": [
              "<div>\n",
              "<style scoped>\n",
              "    .dataframe tbody tr th:only-of-type {\n",
              "        vertical-align: middle;\n",
              "    }\n",
              "\n",
              "    .dataframe tbody tr th {\n",
              "        vertical-align: top;\n",
              "    }\n",
              "\n",
              "    .dataframe thead th {\n",
              "        text-align: right;\n",
              "    }\n",
              "</style>\n",
              "<table border=\"1\" class=\"dataframe\">\n",
              "  <thead>\n",
              "    <tr style=\"text-align: right;\">\n",
              "      <th></th>\n",
              "      <th>proportion</th>\n",
              "    </tr>\n",
              "    <tr>\n",
              "      <th>Outcome</th>\n",
              "      <th></th>\n",
              "    </tr>\n",
              "  </thead>\n",
              "  <tbody>\n",
              "    <tr>\n",
              "      <th>0</th>\n",
              "      <td>0.651042</td>\n",
              "    </tr>\n",
              "    <tr>\n",
              "      <th>1</th>\n",
              "      <td>0.348958</td>\n",
              "    </tr>\n",
              "  </tbody>\n",
              "</table>\n",
              "</div><br><label><b>dtype:</b> float64</label>"
            ]
          },
          "metadata": {},
          "execution_count": 14
        }
      ]
    },
    {
      "cell_type": "markdown",
      "source": [
        "### ¿Qué es SMOTE?\n",
        "\n",
        "**SMOTE** (*Synthetic Minority Over-sampling Technique*) es una técnica de remuestreo que genera nuevos ejemplos sintéticos de la clase minoritaria. En lugar de simplemente duplicar registros, SMOTE **interpola entre observaciones reales** cercanas de la clase minoritaria, creando puntos intermedios en el espacio de características.\n",
        "\n",
        "Su objetivo es **balancear las clases** durante el entrenamiento para que el modelo no se sesgue hacia la clase mayoritaria.\n",
        "\n",
        "Esto es especialmente útil en modelos como KNN o árboles de decisión, que pueden verse fuertemente afectados por el desbalance de clases.\n"
      ],
      "metadata": {
        "id": "wSqACmEJrTPT"
      }
    },
    {
      "cell_type": "code",
      "source": [
        "from imblearn.over_sampling import SMOTE\n",
        "\n",
        "# SMOTE requiere datos escalados y separados\n",
        "smote = SMOTE(random_state=42)\n",
        "X_train_bal, y_train_bal = smote.fit_resample(X_train_scaled, y_train)\n",
        "\n",
        "# Confirmamos que quedó balanceado\n",
        "from collections import Counter\n",
        "print(Counter(y_train_bal))\n"
      ],
      "metadata": {
        "colab": {
          "base_uri": "https://localhost:8080/"
        },
        "id": "EC-ZzhvirJQg",
        "outputId": "0719eee1-aa35-4e0c-928b-1dadc523ccd5"
      },
      "execution_count": 15,
      "outputs": [
        {
          "output_type": "stream",
          "name": "stdout",
          "text": [
            "Counter({0: 400, 1: 400})\n"
          ]
        }
      ]
    },
    {
      "cell_type": "markdown",
      "source": [
        "### Selección del mejor valor de $k$ mediante validación cruzada\n",
        "\n",
        "El algoritmo **KNN** depende directamente del parámetro $k$, que representa el número de vecinos utilizados para hacer la predicción. Elegir un valor inadecuado de $k$ puede llevar a **sobreajuste** (si $k$ es muy pequeño) o a **subajuste** (si $k$ es muy grande).\n",
        "\n",
        "Para encontrar el valor óptimo de $k$, se utiliza **validación cruzada** (cross-validation), que consiste en:\n",
        "\n",
        "1. Dividir los datos de entrenamiento en $k$ subconjuntos (en este caso, 5).\n",
        "2. Entrenar el modelo con diferentes valores de $k$ (vecinos).\n",
        "3. Medir el rendimiento promedio de cada modelo en las particiones no vistas.\n",
        "4. Elegir el valor de $k$ que obtenga **mayor precisión media**.\n",
        "\n",
        "Este proceso permite estimar de forma más robusta qué valor de $k$ generaliza mejor, sin depender de una sola división del conjunto de datos.\n"
      ],
      "metadata": {
        "id": "yFwKFZGIrhGG"
      }
    },
    {
      "cell_type": "code",
      "source": [
        "from sklearn.model_selection import cross_val_score\n",
        "import numpy as np\n",
        "\n",
        "k_range = range(1, 31)\n",
        "cv_scores = [cross_val_score(KNeighborsClassifier(n_neighbors=k),\n",
        "                             X_train_bal, y_train_bal, cv=5, scoring='accuracy').mean()\n",
        "             for k in k_range]\n",
        "\n",
        "# Visualizar\n",
        "import matplotlib.pyplot as plt\n",
        "plt.plot(k_range, cv_scores)\n",
        "plt.xlabel('Número de vecinos (k)')\n",
        "plt.ylabel('Precisión en CV (media)')\n",
        "plt.title('Selección de k para KNN')\n",
        "plt.grid()\n",
        "plt.show()\n",
        "\n",
        "# Mejor k\n",
        "best_k = k_range[np.argmax(cv_scores)]\n",
        "print(f\"Mejor k encontrado: {best_k}\")\n"
      ],
      "metadata": {
        "colab": {
          "base_uri": "https://localhost:8080/",
          "height": 433
        },
        "id": "jefqRtPMrgwq",
        "outputId": "ffe25dd5-6c34-4fb7-ee44-f25d5fda8f61"
      },
      "execution_count": 22,
      "outputs": [
        {
          "output_type": "display_data",
          "data": {
            "text/plain": [
              "<Figure size 800x500 with 1 Axes>"
            ],
            "image/png": "[encoded data removed]"
          },
          "metadata": {}
        },
        {
          "output_type": "stream",
          "name": "stdout",
          "text": [
            "Mejor k encontrado: 1\n"
          ]
        }
      ]
    },
    {
      "cell_type": "code",
      "source": [
        "k_estable = 5  # valor que podemos decidir por robustez\n",
        "\n",
        "knn_opt = KNeighborsClassifier(n_neighbors=k_estable)\n",
        "knn_opt.fit(X_train_bal, y_train_bal)\n",
        "y_pred_opt = knn_opt.predict(X_test_scaled)\n",
        "\n",
        "print(\"Accuracy con k_estable:\", accuracy_score(y_test, y_pred_opt))\n",
        "\n"
      ],
      "metadata": {
        "colab": {
          "base_uri": "https://localhost:8080/"
        },
        "id": "lIoVSE-dsGNW",
        "outputId": "4a1bd077-0f2b-4f90-bc6b-5ecd8c008bd2"
      },
      "execution_count": 23,
      "outputs": [
        {
          "output_type": "stream",
          "name": "stdout",
          "text": [
            "Accuracy con k_estable: 0.7337662337662337\n"
          ]
        }
      ]
    },
    {
      "cell_type": "code",
      "source": [
        "from sklearn.metrics import accuracy_score, confusion_matrix, classification_report\n",
        "\n",
        "print(\"Accuracy KNN mejorado:\", accuracy_score(y_test, y_pred_opt))\n",
        "print(\"\\nMatriz de confusión:\\n\", confusion_matrix(y_test, y_pred_opt))\n",
        "print(\"\\nReporte de clasificación:\\n\", classification_report(y_test, y_pred_opt))\n"
      ],
      "metadata": {
        "colab": {
          "base_uri": "https://localhost:8080/"
        },
        "id": "ptVDpBWUtIpm",
        "outputId": "cbfa03f3-61c6-4fcd-be1d-b86a5547ffd3"
      },
      "execution_count": 24,
      "outputs": [
        {
          "output_type": "stream",
          "name": "stdout",
          "text": [
            "Accuracy KNN mejorado: 0.7337662337662337\n",
            "\n",
            "Matriz de confusión:\n",
            " [[73 27]\n",
            " [14 40]]\n",
            "\n",
            "Reporte de clasificación:\n",
            "               precision    recall  f1-score   support\n",
            "\n",
            "           0       0.84      0.73      0.78       100\n",
            "           1       0.60      0.74      0.66        54\n",
            "\n",
            "    accuracy                           0.73       154\n",
            "   macro avg       0.72      0.74      0.72       154\n",
            "weighted avg       0.75      0.73      0.74       154\n",
            "\n"
          ]
        }
      ]
    },
    {
      "cell_type": "code",
      "source": [
        "import joblib\n",
        "\n",
        "# Guardar el modelo entrenado\n",
        "joblib.dump(knn_opt, 'modelo_knn_diabetes.pkl')\n",
        "\n",
        "# Confirmar que el archivo fue creado\n",
        "import os\n",
        "print(\"Modelo guardado:\", os.path.exists('modelo_knn_diabetes.pkl'))\n",
        "joblib.dump(scaler, 'scaler_knn_diabetes.pkl')\n",
        "print(\"Scaler guardado:\", os.path.exists('scaler_knn_diabetes.pkl'))\n"
      ],
      "metadata": {
        "colab": {
          "base_uri": "https://localhost:8080/"
        },
        "id": "ZCSADZF2y4_i",
        "outputId": "4854f96a-da95-41fd-9549-b2f598f33520"
      },
      "execution_count": 25,
      "outputs": [
        {
          "output_type": "stream",
          "name": "stdout",
          "text": [
            "Modelo guardado: True\n",
            "Scaler guardado: True\n"
          ]
        }
      ]
    },
    {
      "cell_type": "markdown",
      "source": [
        "## Modelado 2: Random Forest\n",
        "\n",
        "Después de probar un modelo basado en vecinos cercanos (KNN), pasamos a entrenar un modelo de tipo **Random Forest**, que pertenece a la familia de los **métodos de ensamble**.\n",
        "\n",
        "**Random Forest** construye múltiples árboles de decisión de forma aleatoria y luego combina sus predicciones por votación. Esta estrategia tiene varias ventajas:\n",
        "\n",
        "- Es **menos sensible al ruido** y al sobreajuste que un solo árbol.\n",
        "- Puede capturar **interacciones no lineales** y relaciones complejas entre variables.\n",
        "- Es **robusto ante desequilibrios de clases**, especialmente si se ajustan los pesos o se combina con técnicas de remuestreo como SMOTE.\n",
        "- Proporciona una estimación directa de la **importancia de cada variable**.\n",
        "\n",
        "En contextos como este, donde las variables tienen distintas escalas y la relación con el objetivo puede ser no lineal, Random Forest es una alternativa potente y flexible que complementa bien los modelos basados en distancia como KNN.\n"
      ],
      "metadata": {
        "id": "C4QviQ_GtabI"
      }
    },
    {
      "cell_type": "markdown",
      "metadata": {
        "id": "2Tv35Wxhm9sn"
      },
      "source": [
        "## Modelado 2: Random Forest"
      ]
    },
    {
      "cell_type": "code",
      "execution_count": 26,
      "metadata": {
        "colab": {
          "base_uri": "https://localhost:8080/"
        },
        "id": "nt6kC9sxm9sn",
        "outputId": "90c78b21-36a5-4402-e1ae-a9d98671e2dd"
      },
      "outputs": [
        {
          "output_type": "stream",
          "name": "stdout",
          "text": [
            "Accuracy Random Forest: 0.7597402597402597\n",
            "\n",
            "Matriz de confusión:\n",
            " [[85 15]\n",
            " [22 32]]\n",
            "\n",
            "Reporte de clasificación:\n",
            "               precision    recall  f1-score   support\n",
            "\n",
            "           0       0.79      0.85      0.82       100\n",
            "           1       0.68      0.59      0.63        54\n",
            "\n",
            "    accuracy                           0.76       154\n",
            "   macro avg       0.74      0.72      0.73       154\n",
            "weighted avg       0.75      0.76      0.76       154\n",
            "\n"
          ]
        }
      ],
      "source": [
        "# 8. Entrenamiento y evaluación de Random Forest\n",
        "from sklearn.ensemble import RandomForestClassifier\n",
        "\n",
        "rf = RandomForestClassifier(n_estimators=100, random_state=42)\n",
        "rf.fit(X_train, y_train)  # Random Forest NO requiere escalado, pero puedes usar X_train_scaled si quieres comparar\n",
        "y_pred_rf = rf.predict(X_test)\n",
        "\n",
        "print(\"Accuracy Random Forest:\", accuracy_score(y_test, y_pred_rf))\n",
        "print(\"\\nMatriz de confusión:\\n\", confusion_matrix(y_test, y_pred_rf))\n",
        "print(\"\\nReporte de clasificación:\\n\", classification_report(y_test, y_pred_rf))"
      ]
    },
    {
      "cell_type": "markdown",
      "source": [
        "### ¿Por qué Random Forest no requiere escalado?\n",
        "\n",
        "A diferencia de algoritmos como KNN o SVM, que basan sus decisiones en **distancias entre puntos** en el espacio de características, Random Forest no utiliza distancia euclidiana ni productos escalares.\n",
        "\n",
        "En su lugar, cada árbol de la Random Forest construye **reglas de decisión basadas en umbrales**, por ejemplo:  \n",
        "> *¿Glucose > 125?*  \n",
        "> *¿BMI ≤ 30?*\n",
        "\n",
        "Estas comparaciones son **invariantes a la escala** de los datos. Por lo tanto, Random Forest **no necesita que las variables estén normalizadas o estandarizadas**, y puede manejar variables con unidades o rangos distintos sin afectar su funcionamiento.\n",
        "\n",
        "Esto lo hace especialmente útil en contextos multivariados con unidades heterogéneas.\n"
      ],
      "metadata": {
        "id": "55f40cnbtn87"
      }
    },
    {
      "cell_type": "markdown",
      "metadata": {
        "id": "RzqIUljgm9sn"
      },
      "source": [
        "**Comparación:**  \n",
        "- ¿Cuál modelo funcionó mejor según las métricas?  \n",
        "- ¿Por qué crees que hay diferencia?"
      ]
    },
    {
      "cell_type": "markdown",
      "source": [
        "El Random Forest funcionó mejor en términos generales, ya que tiene mayor accuracy y F1 global, pero el KNN con SMOTE es útil si tu prioridad es detectar la mayor cantidad posible de casos de la clase 1, incluso a costa de más falsos positivos.\n",
        "¿Por qué la diferencia?\n",
        "\n",
        "KNN con SMOTE:\n",
        "SMOTE ayuda a balancear las clases generando ejemplos sintéticos, lo que aumenta el recall de la clase 1.\n",
        "Sin embargo, KNN es sensible al ruido y tiende a perder precisión porque clasifica por cercanía.\n",
        "\n",
        "Random Forest:\n",
        "Al ser un ensamble de árboles, maneja mejor la variabilidad y los desequilibrios.\n",
        "Ofrece más precisión y mejor performance en la clase mayoritaria, pero puede dejar escapar algunos casos de la minoritaria (recall más bajo)."
      ],
      "metadata": {
        "id": "li-Z63eWKhsf"
      }
    },
    {
      "cell_type": "markdown",
      "source": [
        "### Comparación de modelos: KNN (con SMOTE) vs Random Forest\n",
        "\n",
        "| Métrica              | KNN (k=5, SMOTE) | Random Forest |\n",
        "|----------------------|------------------|----------------|\n",
        "| Accuracy             | 0.734            | **0.760** ✅    |\n",
        "| Precision (clase 1)  | 0.60             | **0.68** ✅      |\n",
        "| Recall (clase 1)     | **0.74** ✅       | 0.59           |\n",
        "| F1-score (clase 1)   | **0.66** ✅       | 0.63           |\n",
        "| F1-score (clase 0)   | 0.78             | **0.82** ✅     |\n",
        "| Recall (clase 0)     | 0.73             | **0.85** ✅     |\n",
        "| Macro avg F1-score   | 0.72             | **0.73** ✅     |\n",
        "\n",
        "---\n",
        "\n",
        "### Elección preferida: KNN con SMOTE\n",
        "\n",
        "Aunque Random Forest alcanza una mayor precisión global, el modelo **KNN con SMOTE** es preferible en este caso porque:\n",
        "\n",
        "- **Recupera un mayor número de casos positivos reales (diabéticos)**, con un recall de 0.74 frente a 0.59.\n",
        "- En contextos médicos o de detección temprana, **minimizar los falsos negativos es crítico**, incluso si eso implica aceptar más falsos positivos.\n",
        "- Además, SMOTE ayuda a mitigar el desbalance de clases, fortaleciendo el modelo en la clase minoritaria.\n",
        "\n",
        "Por tanto, desde una perspectiva **preventiva y ética**, el modelo KNN ajustado es más útil para la tarea clínica implícita en este conjunto de datos.\n"
      ],
      "metadata": {
        "id": "RtqpeDMSuHwc"
      }
    },
    {
      "cell_type": "markdown",
      "metadata": {
        "id": "0cHjJhxCm9so"
      },
      "source": [
        "## Importancia de variables en Random Forest"
      ]
    },
    {
      "cell_type": "code",
      "execution_count": 27,
      "metadata": {
        "colab": {
          "base_uri": "https://localhost:8080/",
          "height": 549
        },
        "id": "_ruqsBFrm9so",
        "outputId": "64ec07da-bc59-415f-ce6d-f2d664dba1b6"
      },
      "outputs": [
        {
          "output_type": "display_data",
          "data": {
            "text/plain": [
              "<Figure size 800x500 with 1 Axes>"
            ],
            "image/png": "[encoded data removed]"
          },
          "metadata": {}
        }
      ],
      "source": [
        "# 9. Visualización de importancia de variables\n",
        "importances = rf.feature_importances_\n",
        "feat_names = X.columns\n",
        "feat_imp = pd.Series(importances, index=feat_names).sort_values(ascending=False)\n",
        "feat_imp.plot(kind='bar', title='Importancia de Variables')\n",
        "plt.ylabel('Importancia')\n",
        "plt.show()"
      ]
    },
    {
      "cell_type": "markdown",
      "source": [
        "### Importancia de variables en Random Forest\n",
        "\n",
        "Random Forest permite estimar la **importancia relativa** de cada variable midiendo cuánto contribuye a reducir la impureza de las divisiones en los árboles.\n",
        "\n",
        "Visualizar estas importancias ayuda a:\n",
        "\n",
        "- Entender qué variables influyen más en las predicciones.\n",
        "- Identificar posibles redundancias o irrelevancias.\n",
        "- Guiar la selección de variables en futuros modelos.\n",
        "\n",
        "Cuanto más alta la barra, mayor es la contribución de esa variable al desempeño del modelo.\n"
      ],
      "metadata": {
        "id": "xqhi5UR2uXQA"
      }
    },
    {
      "cell_type": "markdown",
      "metadata": {
        "id": "tueqJKt_m9so"
      },
      "source": [
        "**Reflexiona:**  \n",
        "- ¿Qué variables resultaron más relevantes para el diagnóstico?  \n"
      ]
    },
    {
      "cell_type": "markdown",
      "source": [
        "En conclusión, el modelo confirma lo que la literatura médica sugiere: la glucosa es la variable más determinante, y su combinación con insulina e IMC permite discriminar mejor entre pacientes con y sin la condición."
      ],
      "metadata": {
        "id": "W7xsGhdqL2Xj"
      }
    },
    {
      "cell_type": "markdown",
      "metadata": {
        "id": "tZ8J_j0Ym9sp"
      },
      "source": [
        "## Conclusión: punto de partida para la recomendación\n",
        "\n",
        "Este cuaderno ha cumplido su objetivo: construir un modelo confiable para automatizar el diagnóstico de diabetes tipo 2 a partir de variables clínicas. A través de un proceso cuidadoso de limpieza, escalado, balanceo y comparación de modelos, elegimos finalmente un clasificador (KNN con SMOTE) que prioriza la detección de casos positivos, criterio clave en contextos clínicos.\n",
        "\n",
        "Este modelo será guardado y utilizado en el siguiente cuaderno, donde implementaremos un **sistema de recomendación personalizado**. Dicho sistema podrá sugerir acciones preventivas, derivaciones clínicas u orientación educativa según el perfil individual del paciente y su predicción diagnóstica.\n",
        "\n",
        "El diagnóstico es el núcleo: a partir de él, la recomendación será posible, ética y útil.\n"
      ]
    },
    {
      "cell_type": "markdown",
      "source": [
        "### ¿Por qué guardamos el modelo con `joblib` y no con `model.save()`?\n",
        "\n",
        "En esta actividad trabajamos con modelos de **scikit-learn**, como K-Nearest Neighbors (`KNeighborsClassifier`) y Random Forest. Estos modelos no forman parte del ecosistema de redes neuronales de Keras/TensorFlow, por lo tanto **no se pueden guardar usando `model.save()`**, que es exclusivo de modelos construidos con `keras.Sequential` o `keras.Model`.\n",
        "\n",
        "En cambio, la forma estándar y eficiente de guardar modelos de `scikit-learn` es usando **`joblib.dump()`**, que permite serializar objetos Python (como clasificadores, pipelines o transformadores) y almacenarlos en archivos `.pkl`.\n",
        "\n",
        "Esto nos permite:\n",
        "- Reutilizar el modelo en otros cuadernos o aplicaciones.\n",
        "- Evitar volver a entrenarlo desde cero.\n",
        "- Separar la etapa de entrenamiento de la de despliegue o recomendación.\n",
        "\n",
        "En resumen:  \n",
        "> Usamos `joblib` porque estamos trabajando con modelos clásicos de machine learning, no con redes neuronales.\n"
      ],
      "metadata": {
        "id": "I_ET4xNhzqzZ"
      }
    }
  ],
  "metadata": {
    "kernelspec": {
      "display_name": "Python 3",
      "language": "python",
      "name": "python3"
    },
    "language_info": {
      "codemirror_mode": {
        "name": "ipython",
        "version": 3
      },
      "file_extension": ".py",
      "mimetype": "text/x-python",
      "name": "python",
      "nbconvert_exporter": "python",
      "pygments_lexer": "ipython3",
      "version": "3.13.5"
    },
    "colab": {
      "provenance": [],
      "include_colab_link": true
    }
  },
  "nbformat": 4,
  "nbformat_minor": 0
}